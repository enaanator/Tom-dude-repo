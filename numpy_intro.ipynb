{
 "cells": [
  {
   "attachments": {
    "numpy.png": {
     "image/png": "[encoded data removed]"
    }
   },
   "cell_type": "markdown",
   "id": "bb09be9e",
   "metadata": {},
   "source": [
    "![numpy.png](attachment:numpy.png)"
   ]
  },
  {
   "cell_type": "markdown",
   "id": "383df4a4",
   "metadata": {},
   "source": [
    "All programming languages were created to interact with the computer, i.e., make the computer perform a task. \n",
    "\n",
    "So if you wanted to make the computer add two or more numbers, you will write your own code (or function) from scratch using a programming language. \n",
    "\n",
    "If you wanted to do a linear regression of on one quantitative variable to another, you will also have to write your own code from scratch."
   ]
  },
  {
   "cell_type": "markdown",
   "id": "d7c68bac",
   "metadata": {},
   "source": [
    "Luckily, you do not have to do this from scratch all the time, because other programmers around the world have already written code for scientific, mathematical computations and packaged them into something called a **library**. All we have to do then, is to get (download and install) this libary and use it."
   ]
  },
  {
   "cell_type": "markdown",
   "id": "baf4d914",
   "metadata": {},
   "source": [
    "**_NumPy_** is an open-source Python library that facilitates efficient numerical operations on large quantities of data.\n",
    "\n",
    "Numpy stands for **_Numerical Python_**.\n",
    "\n",
    "\n",
    "___"
   ]
  },
  {
   "cell_type": "markdown",
   "id": "955376b4",
   "metadata": {},
   "source": [
    "### Why use NumPy?"
   ]
  },
  {
   "cell_type": "markdown",
   "id": "abf994ed",
   "metadata": {},
   "source": [
    "- Math operations are 50x faster on NumPy's ndarray object than on native Python lists.\n",
    "\n",
    "- It contains built-in functions that facilitate working with arrays and math, such as functions for linear algebra, array transformations, and matrix math.\n",
    "\n",
    "- It requires fewer lines of code for most mathematical operations than native Python lists."
   ]
  },
  {
   "cell_type": "markdown",
   "id": "ee03085d",
   "metadata": {},
   "source": [
    "> **_Think of NumPy as a separate software/tool for mathematical computation. To use this tool, you will need Python syntax._**\n",
    ">> _To find out more about NumPy you can check its documentation:_ [NumPy Documentation](https://numpy.org/doc/stable/)\n",
    "\n",
    "___"
   ]
  },
  {
   "cell_type": "markdown",
   "id": "7f6d246a",
   "metadata": {},
   "source": [
    "### Quick start - Installation"
   ]
  },
  {
   "cell_type": "markdown",
   "id": "86719c14",
   "metadata": {},
   "source": [
    "<div style=\"background-color: pink; padding: 1.5em\">\n",
    "    <strong>Note</strong>: This guide will assume that the user will be using Jupyter Notebook to follow along.\n",
    "</div>"
   ]
  },
  {
   "cell_type": "markdown",
   "id": "8cc977ef",
   "metadata": {},
   "source": [
    "If you installed Anaconda, NumPy comes pre-installed and no further installation steps are necessary. Skip to [Importing NumPy](#importing-numpy).\n",
    "\n",
    "However, if this is not the case you can type (or copy and paste) and run the following command in your Jupyter Notebook:\n",
    "\n",
    "**```!pip install numpy```**\n",
    "\n",
    "or\n",
    "\n",
    "**```!conda install numpy```**"
   ]
  },
  {
   "cell_type": "markdown",
   "id": "df680d6b",
   "metadata": {},
   "source": [
    "### Importing NumPy"
   ]
  },
  {
   "cell_type": "markdown",
   "id": "1e95829f",
   "metadata": {},
   "source": [
    "To access NumPy and its functions import it in your Python code like this:"
   ]
  },
  {
   "cell_type": "markdown",
   "id": "54ef7596",
   "metadata": {},
   "source": [
    "**```import numpy as np```**"
   ]
  },
  {
   "cell_type": "markdown",
   "id": "dca6c101",
   "metadata": {},
   "source": [
    "> Because of the **_`as np`_** statement, we are able to call numpy by this name: **_`np`_**, which saves typing when coding. We do not have to type out **_`numpy`_** in full after running this code. To use numpy we simply type **_`np`_**. Like a nick name. Instead of calling your friend, **_Joseph_**'s name in full, you decide to call him **_Joe_**."
   ]
  },
  {
   "cell_type": "markdown",
   "id": "4f5968ec",
   "metadata": {},
   "source": [
    "### Using NumPy"
   ]
  },
  {
   "cell_type": "markdown",
   "id": "58bc9781",
   "metadata": {},
   "source": [
    "As earlier mentioned, NumPy is like a separate software/tool. Just as a software like Excel has built-in functions for varying purposes, NumPy also has numerous useful functions. These functions can be broadly _divied_ up into a few categories. Hence, Numpy has functions for:\n",
    "\n",
    "- Array Creation\n",
    "\n",
    "- Conversions\n",
    "\n",
    "- Manipulations\n",
    "\n",
    "- Exploration\n",
    "\n",
    "- Ordering\n",
    "\n",
    "- Operations\n",
    "\n",
    "- Basic Statistics\n",
    "\n",
    "- Basic Linear Algebra\n",
    "\n",
    "\n",
    "___"
   ]
  },
  {
   "cell_type": "markdown",
   "id": "0a783c2b",
   "metadata": {},
   "source": [
    "### Creating Arrays"
   ]
  },
  {
   "cell_type": "markdown",
   "id": "09b00918",
   "metadata": {},
   "source": [
    "The NumPy array is the basis of the NumPy package.\n",
    "\n",
    "A NumPy array is an **`n`**-dimensional data structure."
   ]
  },
  {
   "attachments": {
    "vector.jpg": {
     "image/jpeg": "[encoded data removed]"
    }
   },
   "cell_type": "markdown",
   "id": "30a2fcaa",
   "metadata": {},
   "source": [
    "A **`one`**-dimensional NumPy array can be thought of as a **`vector`**.\n",
    "\n",
    "![vector.jpg](attachment:vector.jpg)"
   ]
  },
  {
   "attachments": {
    "matrix.jpg": {
     "image/jpeg": "[encoded data removed]"
    }
   },
   "cell_type": "markdown",
   "id": "46769f8d",
   "metadata": {},
   "source": [
    "A **`two`**-dimensional array as a **`matrix`** (i.e., a set of vectors)\n",
    "\n",
    "![matrix.jpg](attachment:matrix.jpg)"
   ]
  },
  {
   "attachments": {
    "tensor.jpg": {
     "image/jpeg": "[encoded data removed]"
    }
   },
   "cell_type": "markdown",
   "id": "bb08104f",
   "metadata": {},
   "source": [
    "A **`three`**-dimensional array as a **`tensor`** (i.e., a set of matrices).\n",
    "\n",
    "![tensor.jpg](attachment:tensor.jpg)"
   ]
  },
  {
   "cell_type": "markdown",
   "id": "821869d1",
   "metadata": {},
   "source": [
    "<div style=\"background-color: #d5ecf2; padding: 1.5em\">\n",
    "    An array can consist of integers, floating-point numbers, or strings. However, the data type must be <strong><em>consistent</em></strong> within an array,i.e., all values must be integers or all floats.\n",
    "</div>"
   ]
  },
  {
   "cell_type": "markdown",
   "id": "8c4ae81b",
   "metadata": {},
   "source": [
    "### `np.array()`"
   ]
  },
  {
   "cell_type": "markdown",
   "id": "5bb4576f",
   "metadata": {},
   "source": [
    "To define an array, we can use the **`np.array()`** function.\n",
    "\n",
    "Below, we pass a list of two elements, each of which is a list containing two values. The result is a 2x2 matrix."
   ]
  },
  {
   "cell_type": "code",
   "execution_count": 1,
   "id": "bdf59b2b",
   "metadata": {},
   "outputs": [],
   "source": [
    "import numpy as np"
   ]
  },
  {
   "cell_type": "code",
   "execution_count": 2,
   "id": "3e779c75",
   "metadata": {},
   "outputs": [
    {
     "data": {
      "text/plain": [
       "array([[1, 2],\n",
       "       [3, 4]])"
      ]
     },
     "execution_count": 2,
     "metadata": {},
     "output_type": "execute_result"
    }
   ],
   "source": [
    "np.array([[1,2],[3,4]])"
   ]
  },
  {
   "cell_type": "code",
   "execution_count": 3,
   "id": "25a6e0cb",
   "metadata": {},
   "outputs": [
    {
     "data": {
      "text/plain": [
       "array([1, 2, 3, 4])"
      ]
     },
     "execution_count": 3,
     "metadata": {},
     "output_type": "execute_result"
    }
   ],
   "source": [
    "list1 = [1,2,3,4]\n",
    "array1 = np.array(list1)\n",
    "\n",
    "array1"
   ]
  },
  {
   "cell_type": "code",
   "execution_count": 4,
   "id": "7df9f580",
   "metadata": {},
   "outputs": [
    {
     "data": {
      "text/plain": [
       "array([[1, 2, 3],\n",
       "       [4, 5, 6]])"
      ]
     },
     "execution_count": 4,
     "metadata": {},
     "output_type": "execute_result"
    }
   ],
   "source": [
    "list2 = [[1,2,3],[4,5,6]]\n",
    "array2 = np.array(list2)\n",
    "\n",
    "array2"
   ]
  },
  {
   "cell_type": "markdown",
   "id": "35381476",
   "metadata": {},
   "source": [
    "### `np.arange()`"
   ]
  },
  {
   "cell_type": "markdown",
   "id": "875d0612",
   "metadata": {},
   "source": [
    "The **`np.arange()`** function is great for creating vectors very easily. It is  often used to create sample data.\n",
    "\n",
    "Here, we create a vector with values spanning 1 up to (but not including) 5:"
   ]
  },
  {
   "cell_type": "code",
   "execution_count": 7,
   "id": "93d1d3ee",
   "metadata": {},
   "outputs": [
    {
     "data": {
      "text/plain": [
       "array([1, 2, 3, 4])"
      ]
     },
     "execution_count": 7,
     "metadata": {},
     "output_type": "execute_result"
    }
   ],
   "source": [
    "np.arange(1, 5)"
   ]
  },
  {
   "cell_type": "markdown",
   "id": "0ba6c0e8",
   "metadata": {},
   "source": [
    "### `np.zeros()`"
   ]
  },
  {
   "cell_type": "markdown",
   "id": "a5a3e45a",
   "metadata": {},
   "source": [
    "NumPy has a function that allows us to create an array of zeroes of varying dimensions (shapes).\n",
    "\n",
    "Here, we create an array of zeros with three rows and one column."
   ]
  },
  {
   "cell_type": "code",
   "execution_count": 9,
   "id": "01aeb804",
   "metadata": {},
   "outputs": [
    {
     "data": {
      "text/plain": [
       "array([[0., 0., 0.],\n",
       "       [0., 0., 0.],\n",
       "       [0., 0., 0.]])"
      ]
     },
     "execution_count": 9,
     "metadata": {},
     "output_type": "execute_result"
    }
   ],
   "source": [
    "np.zeros((3,3))"
   ]
  },
  {
   "cell_type": "markdown",
   "id": "91bae7b1",
   "metadata": {},
   "source": [
    "### `np.ones()`"
   ]
  },
  {
   "cell_type": "markdown",
   "id": "4f1a95d4",
   "metadata": {},
   "source": [
    "You can also initialize an array with ones instead of zeros:"
   ]
  },
  {
   "cell_type": "code",
   "execution_count": 11,
   "id": "a29f1dda",
   "metadata": {},
   "outputs": [
    {
     "data": {
      "text/plain": [
       "array([[1., 1., 1.],\n",
       "       [1., 1., 1.],\n",
       "       [1., 1., 1.]])"
      ]
     },
     "execution_count": 11,
     "metadata": {},
     "output_type": "execute_result"
    }
   ],
   "source": [
    "np.ones((3, 3))"
   ]
  },
  {
   "cell_type": "markdown",
   "id": "33e5a066",
   "metadata": {},
   "source": [
    "### `np.full()`"
   ]
  },
  {
   "cell_type": "markdown",
   "id": "3bdd8ee4",
   "metadata": {},
   "source": [
    "The **`np.full()`** creates an array repeating a fixed value.\n",
    "\n",
    "Here we create a 2x3 array with the number 5 in each element:"
   ]
  },
  {
   "cell_type": "code",
   "execution_count": 13,
   "id": "f1d07db2",
   "metadata": {},
   "outputs": [
    {
     "data": {
      "text/plain": [
       "array([[5, 5, 5],\n",
       "       [5, 5, 5]])"
      ]
     },
     "execution_count": 13,
     "metadata": {},
     "output_type": "execute_result"
    }
   ],
   "source": [
    "np.full((2,3), 5)"
   ]
  },
  {
   "cell_type": "markdown",
   "id": "55e7b2cb",
   "metadata": {},
   "source": [
    "### **`np.linspace()`**"
   ]
  },
  {
   "cell_type": "markdown",
   "id": "14f36504",
   "metadata": {},
   "source": [
    "We can create a linearly spaced array with **`np.linspace()`**."
   ]
  },
  {
   "cell_type": "code",
   "execution_count": 14,
   "id": "a66dfacb",
   "metadata": {},
   "outputs": [
    {
     "data": {
      "text/plain": [
       "array([ 0.,  5., 10., 15., 20.])"
      ]
     },
     "execution_count": 14,
     "metadata": {},
     "output_type": "execute_result"
    }
   ],
   "source": [
    "arr_1 = np.linspace(0, 20, 5) # (Start, stop, step)\n",
    "\n",
    "arr_1"
   ]
  },
  {
   "cell_type": "markdown",
   "id": "a6e5293f",
   "metadata": {},
   "source": [
    "### Storing arrays in variables"
   ]
  },
  {
   "cell_type": "markdown",
   "id": "c5c76104",
   "metadata": {},
   "source": [
    "As you may have thought, we can create and store arrays in variables for later use."
   ]
  },
  {
   "cell_type": "code",
   "execution_count": 15,
   "id": "16873f86",
   "metadata": {},
   "outputs": [],
   "source": [
    "var_1 = np.array([[1,2],[3,4]])\n",
    "\n",
    "var_2 = np.arange(1, 5)\n",
    "\n",
    "var_3 = np.zeros((3,1))\n",
    "\n",
    "var_4 = np.ones((3, 1))\n",
    "\n",
    "var_5 = np.full((2,3), 5)"
   ]
  },
  {
   "cell_type": "markdown",
   "id": "a7383250",
   "metadata": {},
   "source": [
    "### Pseudo-random number generation"
   ]
  },
  {
   "cell_type": "markdown",
   "id": "9e1bd4b3",
   "metadata": {},
   "source": [
    "Being able to generate pseudo-random numbers is often necessary in data science applications.\n",
    "\n",
    "Examples include modeling the _uniform_ distribution and the _normal (Gaussian)_ distribution."
   ]
  },
  {
   "cell_type": "markdown",
   "id": "035b9e0c",
   "metadata": {},
   "source": [
    "### `np.random.rand()`"
   ]
  },
  {
   "cell_type": "code",
   "execution_count": 18,
   "id": "3acef2b7",
   "metadata": {
    "collapsed": true
   },
   "outputs": [
    {
     "data": {
      "text/plain": [
       "array([0.06374162, 0.44216662, 0.14028725, 0.29328615, 0.35100818,\n",
       "       0.43057788, 0.22033577, 0.03109487, 0.94991125, 0.92045727,\n",
       "       0.15620592, 0.87014148, 0.05073521, 0.93504919, 0.45031979,\n",
       "       0.90498928, 0.12650374, 0.42511321, 0.4003106 , 0.91682184,\n",
       "       0.78330979, 0.58425304, 0.94003647, 0.70851862, 0.53647468,\n",
       "       0.8237678 , 0.00900238, 0.38291396, 0.98931649, 0.69899589,\n",
       "       0.71310522, 0.87934782, 0.16344278, 0.74576036, 0.45605849,\n",
       "       0.13082037, 0.5246676 , 0.02779636, 0.1627801 , 0.44725478,\n",
       "       0.11603126, 0.46179815, 0.33420208, 0.35268623, 0.48476719,\n",
       "       0.26043867, 0.81427454, 0.19235403, 0.34291529, 0.85971417,\n",
       "       0.23512534, 0.24305213, 0.7382966 , 0.87729841, 0.58987149,\n",
       "       0.04264859, 0.50066771, 0.45122723, 0.98545773, 0.14595257,\n",
       "       0.31025009, 0.84999846, 0.41974664, 0.15486722, 0.85671043,\n",
       "       0.44041379, 0.68119501, 0.07807329, 0.14895814, 0.96699199,\n",
       "       0.04785721, 0.00634368, 0.94045993, 0.00835791, 0.64973378,\n",
       "       0.21812828, 0.23834328, 0.88756531, 0.65407562, 0.78334762,\n",
       "       0.7643012 , 0.60800662, 0.98290469, 0.12316355, 0.82603531,\n",
       "       0.88594973, 0.93733441, 0.7160513 , 0.23677036, 0.15706693,\n",
       "       0.95585055, 0.67883318, 0.40300992, 0.26372638, 0.84930808,\n",
       "       0.51048577, 0.77176409, 0.3990868 , 0.02096633, 0.2362692 ,\n",
       "       0.12138745, 0.35237305, 0.84747683, 0.2610769 , 0.43867087,\n",
       "       0.41584839, 0.31414472, 0.51073498, 0.91895096, 0.78112443,\n",
       "       0.72569402, 0.51528697, 0.93012942, 0.89727522, 0.76811032,\n",
       "       0.93131541, 0.16118701, 0.69043986, 0.27696879, 0.04675716,\n",
       "       0.50990965, 0.14703469, 0.02439075, 0.62614078, 0.74746356,\n",
       "       0.67621477, 0.1556559 , 0.94391404, 0.44189413, 0.59442216,\n",
       "       0.96722998, 0.3073678 , 0.40207802, 0.73471125, 0.09075533,\n",
       "       0.8503162 , 0.22706652, 0.45697338, 0.84790819, 0.1226666 ,\n",
       "       0.95959609, 0.97784621, 0.83723304, 0.1683209 , 0.16926249,\n",
       "       0.88335525, 0.95241894, 0.71707876, 0.78725359, 0.61092512,\n",
       "       0.02182493, 0.45304384, 0.21434829, 0.24007165, 0.02124171,\n",
       "       0.82975839, 0.20789695, 0.92419767, 0.5115197 , 0.07641888,\n",
       "       0.36129797, 0.80832338, 0.71684831, 0.78841183, 0.36528844,\n",
       "       0.06210059, 0.55276041, 0.95854064, 0.70225916, 0.65170371,\n",
       "       0.77793952, 0.54077281, 0.32966053, 0.90390483, 0.49236403,\n",
       "       0.47196677, 0.34584955, 0.04381328, 0.81087105, 0.26725035,\n",
       "       0.32913161, 0.18166543, 0.02746638, 0.86181153, 0.46314637,\n",
       "       0.0521833 , 0.2477082 , 0.04083119, 0.28675255, 0.60915778,\n",
       "       0.61660936, 0.98866865, 0.05262274, 0.57969264, 0.47284411,\n",
       "       0.92526544, 0.7936385 , 0.58865678, 0.97368489, 0.55239154,\n",
       "       0.02639641, 0.90066548, 0.70061506, 0.14780518, 0.36405474,\n",
       "       0.4982701 , 0.78546776, 0.8153128 , 0.52629869, 0.61055163,\n",
       "       0.02925227, 0.65112352, 0.24708486, 0.39753009, 0.29878761,\n",
       "       0.43550881, 0.57853474, 0.21106545, 0.21446685, 0.5539084 ,\n",
       "       0.36318883, 0.00620674, 0.09034328, 0.41235483, 0.57838215,\n",
       "       0.32027132, 0.34810821, 0.97334374, 0.89479051, 0.62707553,\n",
       "       0.72845448, 0.6615645 , 0.02060993, 0.33613532, 0.61061798,\n",
       "       0.65840659, 0.7306949 , 0.13082022, 0.62533285, 0.92359987,\n",
       "       0.85271181, 0.03562286, 0.88535536, 0.75982374, 0.78087177,\n",
       "       0.32598423, 0.6378875 , 0.93086218, 0.94054579, 0.80736579,\n",
       "       0.85776392, 0.81009384, 0.59597207, 0.60742562, 0.34246432,\n",
       "       0.50430663, 0.11590292, 0.87932627, 0.5377846 , 0.6359012 ,\n",
       "       0.98674078, 0.76442214, 0.98529902, 0.22212182, 0.33504779,\n",
       "       0.43058491, 0.10444205, 0.37152911, 0.27502883, 0.25561108,\n",
       "       0.2637734 , 0.23749964, 0.88419431, 0.05742524, 0.30886612,\n",
       "       0.89045736, 0.87258325, 0.44136527, 0.4572244 , 0.2135334 ,\n",
       "       0.24886107, 0.43724777, 0.02316307, 0.13099711, 0.62624487,\n",
       "       0.70203121, 0.98035776, 0.23463471, 0.00828021, 0.44765744,\n",
       "       0.69785304, 0.21098715, 0.38604097, 0.38117306, 0.48122422,\n",
       "       0.57636056, 0.71043623, 0.21586941, 0.24879383, 0.61043862,\n",
       "       0.91119349, 0.89383884, 0.87396711, 0.08595626, 0.75831922,\n",
       "       0.26748647, 0.16517228, 0.57470842, 0.59750251, 0.99998726,\n",
       "       0.31732205, 0.40193802, 0.42603097, 0.90920011, 0.71956402,\n",
       "       0.12533602, 0.42537143, 0.73570079, 0.77571479, 0.34190576,\n",
       "       0.92205399, 0.04710289, 0.22901398, 0.39289251, 0.50526426,\n",
       "       0.03898624, 0.7248526 , 0.67077072, 0.62294127, 0.80534885,\n",
       "       0.84792312, 0.49160196, 0.41284038, 0.36201148, 0.85209935,\n",
       "       0.29769716, 0.75106701, 0.30733461, 0.20901733, 0.19457924,\n",
       "       0.26257175, 0.82812306, 0.36692798, 0.00987251, 0.06084674,\n",
       "       0.34844049, 0.62030928, 0.45480699, 0.98659278, 0.3244702 ,\n",
       "       0.90162972, 0.56848488, 0.38079363, 0.98325835, 0.17316524,\n",
       "       0.99136831, 0.55283461, 0.58947574, 0.65192652, 0.1807102 ,\n",
       "       0.21955074, 0.14757319, 0.6544376 , 0.24803175, 0.77313895,\n",
       "       0.8477176 , 0.95114112, 0.59217948, 0.98423239, 0.17863462,\n",
       "       0.90036755, 0.98787111, 0.52692281, 0.53401625, 0.27365048,\n",
       "       0.12699246, 0.37615757, 0.20816837, 0.80814182, 0.34304705,\n",
       "       0.29549721, 0.6755753 , 0.86133417, 0.7944202 , 0.46782379,\n",
       "       0.5917007 , 0.92981744, 0.2168805 , 0.29418428, 0.7461985 ,\n",
       "       0.97965238, 0.41919364, 0.73607407, 0.02731127, 0.01905073,\n",
       "       0.99511062, 0.96076744, 0.5347352 , 0.95396286, 0.73377369,\n",
       "       0.6231409 , 0.83608925, 0.17593613, 0.88468462, 0.38465956,\n",
       "       0.58218047, 0.7700333 , 0.5058122 , 0.42547455, 0.91806031,\n",
       "       0.91866064, 0.81295354, 0.65049728, 0.11766553, 0.90017492,\n",
       "       0.11553269, 0.88074565, 0.15487643, 0.50407604, 0.7791647 ,\n",
       "       0.79825241, 0.46401975, 0.96956099, 0.2492242 , 0.39042338,\n",
       "       0.11071264, 0.60535741, 0.09113106, 0.3626112 , 0.54930382,\n",
       "       0.20764849, 0.35513124, 0.40638747, 0.12201284, 0.18344434,\n",
       "       0.20288703, 0.99535302, 0.50315696, 0.52592249, 0.4118312 ,\n",
       "       0.2262617 , 0.7530295 , 0.81906382, 0.17492491, 0.9371159 ,\n",
       "       0.29666866, 0.53377359, 0.6857501 , 0.85938797, 0.03120994,\n",
       "       0.04943118, 0.64314485, 0.5133343 , 0.64951365, 0.12610781,\n",
       "       0.51852649, 0.54111068, 0.52205135, 0.45536844, 0.19001551,\n",
       "       0.22494146, 0.59430812, 0.0408507 , 0.99493622, 0.73015841,\n",
       "       0.34052165, 0.80672336, 0.26922438, 0.24612287, 0.08747404,\n",
       "       0.96057433, 0.32302937, 0.91661933, 0.11133327, 0.20460318,\n",
       "       0.85255257, 0.4182955 , 0.21342709, 0.53297489, 0.58437929,\n",
       "       0.70077523, 0.61642909, 0.72570997, 0.36333228, 0.13374984,\n",
       "       0.14480136, 0.37984963, 0.07460747, 0.78152727, 0.31822477,\n",
       "       0.71538294, 0.15346386, 0.32156796, 0.7726543 , 0.35713564,\n",
       "       0.74429197, 0.94380355, 0.19861105, 0.17667413, 0.7820793 ,\n",
       "       0.52376961, 0.03635886, 0.00250385, 0.57996959, 0.66708579,\n",
       "       0.03914559, 0.74582355, 0.6722389 , 0.86569628, 0.16360095,\n",
       "       0.8585949 , 0.88160616, 0.53818922, 0.2618822 , 0.49504724,\n",
       "       0.66342933, 0.32366736, 0.33400328, 0.88827454, 0.30205224,\n",
       "       0.34882494, 0.17582617, 0.634764  , 0.71242953, 0.2229751 ,\n",
       "       0.7601742 , 0.48558663, 0.03305881, 0.86276391, 0.78272314,\n",
       "       0.75442554, 0.74537531, 0.16697573, 0.85187423, 0.52764408,\n",
       "       0.93449646, 0.09633187, 0.04521873, 0.47419224, 0.97386601,\n",
       "       0.52577774, 0.25720405, 0.02552891, 0.21786262, 0.40647437,\n",
       "       0.09173099, 0.71251098, 0.89717499, 0.62162994, 0.99894054,\n",
       "       0.34141449, 0.3912643 , 0.63777442, 0.11928482, 0.31442813,\n",
       "       0.55956686, 0.94927295, 0.18126718, 0.57708065, 0.78364919,\n",
       "       0.62444639, 0.15200266, 0.69844351, 0.65535164, 0.96345747,\n",
       "       0.23486769, 0.4329652 , 0.87388002, 0.8418383 , 0.14759921,\n",
       "       0.74441181, 0.63297623, 0.99498145, 0.91503568, 0.69883903,\n",
       "       0.61874859, 0.10879726, 0.2694105 , 0.5632326 , 0.47082149,\n",
       "       0.10483836, 0.99362027, 0.88772636, 0.09415847, 0.2681918 ,\n",
       "       0.82338358, 0.31058108, 0.45584465, 0.11830587, 0.90515085,\n",
       "       0.61598078, 0.29624899, 0.62222705, 0.96979385, 0.00620509,\n",
       "       0.80907763, 0.762994  , 0.37781631, 0.82278566, 0.07453363,\n",
       "       0.19746583, 0.61514707, 0.16666665, 0.0891626 , 0.28860803,\n",
       "       0.91044829, 0.42258531, 0.14122389, 0.70361761, 0.35128526,\n",
       "       0.44023645, 0.27080301, 0.03597129, 0.77069076, 0.1905617 ,\n",
       "       0.51987166, 0.42015923, 0.9422625 , 0.21166316, 0.52163507,\n",
       "       0.94508586, 0.88871704, 0.02310732, 0.53728909, 0.44408632,\n",
       "       0.35392211, 0.47197902, 0.01068088, 0.20205073, 0.65801107,\n",
       "       0.75615817, 0.41393032, 0.03285823, 0.04004772, 0.52189339,\n",
       "       0.79949067, 0.50838595, 0.30167257, 0.9503848 , 0.12179427,\n",
       "       0.31105564, 0.58793597, 0.92829197, 0.79017538, 0.02296248,\n",
       "       0.49774234, 0.5467612 , 0.9720231 , 0.83659399, 0.3825019 ,\n",
       "       0.37510718, 0.41838432, 0.07217367, 0.50758642, 0.88331399,\n",
       "       0.62634198, 0.33434376, 0.09483245, 0.39657472, 0.30138639,\n",
       "       0.94781727, 0.40742133, 0.21830364, 0.05773335, 0.53439992,\n",
       "       0.44537596, 0.39690634, 0.47355131, 0.67077042, 0.30205197,\n",
       "       0.58945154, 0.22578045, 0.43289471, 0.77993283, 0.57827733,\n",
       "       0.00548084, 0.6810115 , 0.44332492, 0.01810604, 0.21784525,\n",
       "       0.87915703, 0.11235732, 0.18635361, 0.7950288 , 0.02794018,\n",
       "       0.61619196, 0.72517752, 0.94634124, 0.59288698, 0.13373313,\n",
       "       0.23615149, 0.46917023, 0.77872416, 0.48882048, 0.92919832,\n",
       "       0.87003911, 0.67999567, 0.65329855, 0.42903575, 0.09510665,\n",
       "       0.98657908, 0.67825899, 0.89880248, 0.77742769, 0.54825376,\n",
       "       0.98736432, 0.87131271, 0.3232747 , 0.62860401, 0.36570915,\n",
       "       0.42996763, 0.8159353 , 0.35832216, 0.14458064, 0.38392234,\n",
       "       0.29510804, 0.95008379, 0.34703368, 0.51678201, 0.57695977,\n",
       "       0.50144723, 0.82697786, 0.4939925 , 0.76159356, 0.48499163,\n",
       "       0.72155575, 0.93237632, 0.99980875, 0.55936627, 0.19100839,\n",
       "       0.83525544, 0.90547558, 0.02717212, 0.77892046, 0.87520535,\n",
       "       0.92209075, 0.84610104, 0.9097913 , 0.73923234, 0.55608223,\n",
       "       0.444818  , 0.12009326, 0.44256973, 0.18662387, 0.16565943,\n",
       "       0.19103661, 0.58965402, 0.21303151, 0.01905749, 0.10582506,\n",
       "       0.02636697, 0.21995605, 0.28330508, 0.69099883, 0.74796361,\n",
       "       0.19854442, 0.25500448, 0.32341021, 0.43954241, 0.31883131,\n",
       "       0.72043976, 0.30522408, 0.4867068 , 0.82681804, 0.47511257,\n",
       "       0.57754114, 0.52359954, 0.68494412, 0.75982678, 0.6528177 ,\n",
       "       0.49804793, 0.74717009, 0.68324625, 0.6053018 , 0.62870704,\n",
       "       0.21951925, 0.5745754 , 0.9779936 , 0.20459211, 0.53387502,\n",
       "       0.64462009, 0.10362215, 0.301689  , 0.22881529, 0.22810842,\n",
       "       0.85588087, 0.99214832, 0.9650165 , 0.11553757, 0.46353073,\n",
       "       0.50818075, 0.8231304 , 0.80951529, 0.03693471, 0.87890761,\n",
       "       0.82765204, 0.23308962, 0.58540654, 0.03831369, 0.89808641,\n",
       "       0.438635  , 0.50837767, 0.91894856, 0.90190499, 0.78304389,\n",
       "       0.02959307, 0.59587887, 0.6872326 , 0.28206633, 0.45064234,\n",
       "       0.41876486, 0.26922381, 0.68871167, 0.88906635, 0.21389281,\n",
       "       0.72524676, 0.36635839, 0.12692828, 0.24730905, 0.09886989,\n",
       "       0.18889715, 0.55599767, 0.60445816, 0.90627955, 0.22113599,\n",
       "       0.58718457, 0.43101607, 0.29528336, 0.95445869, 0.87584851,\n",
       "       0.52672846, 0.7708537 , 0.37446235, 0.634718  , 0.75375382,\n",
       "       0.63112112, 0.52600213, 0.34390379, 0.2183755 , 0.81142036,\n",
       "       0.59478623, 0.19234412, 0.6977076 , 0.91082917, 0.4215399 ,\n",
       "       0.45234213, 0.78674229, 0.8027689 , 0.99165331, 0.82721135,\n",
       "       0.92511164, 0.66071632, 0.02125463, 0.12163767, 0.70808793,\n",
       "       0.30683055, 0.26192084, 0.11881465, 0.18218635, 0.39321648,\n",
       "       0.38934495, 0.48434923, 0.2544559 , 0.66691652, 0.6543919 ,\n",
       "       0.86185176, 0.16214459, 0.022267  , 0.09331128, 0.69336183,\n",
       "       0.32722741, 0.6627353 , 0.68775685, 0.9585657 , 0.41782193,\n",
       "       0.32678258, 0.57671782, 0.69406901, 0.36599301, 0.74478395,\n",
       "       0.85044641, 0.04236474, 0.35200176, 0.14954431, 0.09578676,\n",
       "       0.86536707, 0.17018511, 0.55802983, 0.36220159, 0.66307022,\n",
       "       0.30277106, 0.03808979, 0.86853318, 0.03340643, 0.84883103,\n",
       "       0.95003437, 0.24000715, 0.80026965, 0.49018412, 0.12553473,\n",
       "       0.60910021, 0.89496347, 0.11099876, 0.33819091, 0.43047678,\n",
       "       0.57929608, 0.36638985, 0.07976454, 0.89757189, 0.70505616,\n",
       "       0.849412  , 0.42998762, 0.58637506, 0.23913659, 0.53664708,\n",
       "       0.88076923, 0.4183228 , 0.29259274, 0.35965515, 0.02156638,\n",
       "       0.64916053, 0.75722301, 0.11605777, 0.19756185, 0.45953113,\n",
       "       0.90436762, 0.04764515, 0.68487845, 0.46512164, 0.68002321,\n",
       "       0.98316978, 0.28540957, 0.49802931, 0.8763323 , 0.36879192,\n",
       "       0.21076238, 0.42747538, 0.08730459, 0.09975086, 0.57057051,\n",
       "       0.29066621, 0.80705051, 0.39153106, 0.14512105, 0.93947532,\n",
       "       0.8196888 , 0.25948926, 0.4756908 , 0.27379114, 0.48554445,\n",
       "       0.78351584, 0.34179271, 0.55702157, 0.7041129 , 0.01941179,\n",
       "       0.56438982, 0.12904095, 0.86540248, 0.66491423, 0.12219116,\n",
       "       0.46312613, 0.9929116 , 0.58419182, 0.85834775, 0.43673021,\n",
       "       0.0798155 , 0.5269836 , 0.35511216, 0.37652544, 0.81994177,\n",
       "       0.12571453, 0.3369854 , 0.11115278, 0.97778505, 0.22850651,\n",
       "       0.20696403, 0.83913156, 0.04272878, 0.54343016, 0.39970132,\n",
       "       0.7209762 , 0.22124665, 0.82096448, 0.46337882, 0.11591768,\n",
       "       0.15560943, 0.91249108, 0.69411756, 0.92482468, 0.95342771,\n",
       "       0.66056539, 0.69045952, 0.17479294, 0.2339471 , 0.06882492,\n",
       "       0.62797964, 0.68274771, 0.57355947, 0.20866417, 0.27605696])"
      ]
     },
     "execution_count": 18,
     "metadata": {},
     "output_type": "execute_result"
    }
   ],
   "source": [
    "uniform_data = np.random.rand(1000)\n",
    "uniform_data"
   ]
  },
  {
   "cell_type": "markdown",
   "id": "04d24b38",
   "metadata": {},
   "source": [
    "### `np.random.normal()`"
   ]
  },
  {
   "cell_type": "code",
   "execution_count": 19,
   "id": "1e0ce8c2",
   "metadata": {
    "collapsed": true
   },
   "outputs": [
    {
     "data": {
      "text/plain": [
       "array([ 2.78758749e+00,  8.49702734e+00,  2.32978941e+00,  2.70609611e+00,\n",
       "        7.33522403e+00,  2.09661788e+00,  2.89834657e+00,  4.76565723e+00,\n",
       "        9.61887523e+00,  4.53116689e+00,  6.90272386e+00,  1.80751675e+00,\n",
       "        5.65036081e+00,  1.08775076e+01,  2.73213336e+00,  6.08135450e+00,\n",
       "        6.20723749e+00,  1.04766416e+01,  4.98793687e+00,  3.50364141e+00,\n",
       "        1.36595193e+00,  2.15428042e+00,  7.59540843e+00,  2.76901561e+00,\n",
       "        5.47580658e+00,  5.16649636e+00,  3.72232526e+00,  5.55777918e+00,\n",
       "        7.91561019e+00,  3.22417543e+00,  3.87362730e+00,  5.33332894e+00,\n",
       "        5.06993752e+00,  4.07163663e+00,  1.17045515e+01,  3.52991745e+00,\n",
       "        4.49344939e+00,  7.26283053e+00,  8.64313770e+00,  3.76395093e+00,\n",
       "        3.64578890e+00,  2.69926424e+00,  4.01437678e+00,  4.31793290e+00,\n",
       "        5.60671491e+00,  5.21756062e+00,  1.22246887e+00,  3.64406149e+00,\n",
       "       -1.83557145e+00,  3.20933683e+00,  5.68273819e+00,  5.59853120e+00,\n",
       "        5.43017509e+00,  2.40893423e+00,  5.43681441e+00,  9.45925185e-01,\n",
       "        8.19491937e+00,  2.21767093e+00,  2.38972627e+00,  5.57656237e+00,\n",
       "        5.71441878e+00,  4.59359473e+00,  2.15392119e+00,  8.58275487e+00,\n",
       "        5.66233347e+00,  5.93490497e+00,  8.86663317e+00,  8.50363802e+00,\n",
       "        2.08341141e+00,  9.00451294e+00,  8.26645574e+00,  4.32212654e+00,\n",
       "        3.85009559e+00,  2.98350574e+00,  4.69567149e+00,  2.77987554e+00,\n",
       "        7.51397520e-01,  2.41138365e+00,  4.77081772e+00,  6.74059305e+00,\n",
       "        4.40194901e+00,  7.84558478e+00,  9.66671385e-01,  9.62636026e+00,\n",
       "        3.74732279e+00,  2.94669584e+00,  3.29516746e-01,  8.68674247e+00,\n",
       "        1.89139898e+00,  5.04655621e+00,  3.35510252e+00,  2.91919482e+00,\n",
       "        6.21390459e+00,  4.25217170e+00,  3.64910645e+00,  5.52306797e+00,\n",
       "        4.19176622e+00,  3.87994528e-02,  2.00662436e+00,  3.51219805e+00,\n",
       "        3.79302302e+00,  9.20104275e+00, -1.27503018e+00,  1.30226027e+01,\n",
       "        6.02469291e+00,  4.92535057e+00,  7.22256173e+00,  5.20946805e+00,\n",
       "        3.38934235e+00, -1.98768643e+00,  4.60003953e+00,  2.20174021e+00,\n",
       "       -3.47115022e-01,  5.73510695e+00,  3.14589591e+00, -4.87503849e-01,\n",
       "       -2.70322482e+00,  8.84068623e+00,  5.59455575e+00,  8.61837314e+00,\n",
       "       -1.56503737e+00,  2.14453247e+00,  5.00687808e+00, -1.49830406e+00,\n",
       "        6.33169427e+00,  4.09789924e+00,  6.28954312e+00,  7.70867852e+00,\n",
       "        2.09577482e+00,  4.48972824e+00,  5.99766600e+00,  2.16367165e+00,\n",
       "        8.39221755e+00,  6.78622266e+00,  9.92241993e-01,  4.78835491e+00,\n",
       "        5.70478313e+00,  6.36363647e+00,  6.55300118e+00,  6.05359423e+00,\n",
       "        1.18063214e+01,  6.25497967e+00,  6.28459191e+00,  4.03434250e+00,\n",
       "        5.41692867e+00,  3.60205633e+00,  7.74280603e+00,  6.75153143e+00,\n",
       "        6.72491876e+00,  7.68694680e+00,  3.41634123e+00,  1.79913938e+00,\n",
       "        9.01943556e+00,  8.53969054e+00,  7.15764255e+00, -2.10035023e-01,\n",
       "        2.04521965e+00,  6.62887268e+00,  6.62167457e+00,  1.21099748e+01,\n",
       "        3.66567038e+00,  4.55481503e-01, -2.71355321e-01,  1.92340938e+00,\n",
       "        8.96373861e+00,  4.80604342e+00,  6.83395214e+00,  6.46576908e+00,\n",
       "        7.01423351e+00,  4.32643973e+00,  1.08421987e+01,  8.95998388e+00,\n",
       "        7.81211543e+00,  4.11190457e-01,  7.62841779e+00,  6.30649652e+00,\n",
       "        7.66291572e+00,  8.01816220e+00,  5.02753022e+00,  5.39758790e+00,\n",
       "        3.37469539e+00, -1.75817731e+00,  8.42142423e+00,  5.84780993e+00,\n",
       "        6.44173042e+00,  9.28217280e+00,  3.39053684e+00,  1.21698754e+01,\n",
       "        6.39421766e+00,  8.69636423e+00,  4.50471994e-01,  3.30482268e+00,\n",
       "        4.06455484e+00,  4.96718262e+00,  7.12407920e+00,  8.14211556e+00,\n",
       "        1.69412981e+00,  4.69367619e+00,  3.24922621e+00,  6.86170417e+00,\n",
       "        6.28537315e+00,  6.18002023e+00,  3.40633868e+00,  8.66382367e-01,\n",
       "        5.38137500e+00,  3.86615242e+00,  5.17785001e+00,  8.59555072e+00,\n",
       "        7.07569082e+00,  5.89310388e+00,  3.69429157e+00,  5.53992005e+00,\n",
       "        5.51204812e+00,  2.98321574e+00,  8.65888028e+00,  9.46348123e+00,\n",
       "        5.30426582e+00,  8.33201981e+00,  8.73624171e+00,  7.43448387e+00,\n",
       "        3.14958355e+00,  1.13914319e+01,  5.44918671e+00,  1.09036702e+01,\n",
       "        1.42724474e+00,  7.65348002e+00,  4.18266963e+00,  1.17890983e+00,\n",
       "        9.19683482e+00,  3.26692312e+00,  1.03035854e+01, -3.05553678e-01,\n",
       "        3.20247617e+00,  1.68890086e+00,  8.26582800e+00,  6.57082293e+00,\n",
       "        1.19425593e+00,  1.06307349e+01,  3.23504948e+00,  6.19303379e+00,\n",
       "        4.80134449e+00, -1.06309298e-01,  8.91531358e+00,  9.37366283e+00,\n",
       "        9.78481267e+00,  5.34906806e+00,  6.94031036e+00,  6.69442639e+00,\n",
       "        1.57919858e+00,  8.49183547e+00,  7.82061059e+00,  1.06254174e+01,\n",
       "        6.96157930e+00,  8.39026912e-01,  3.01375282e+00,  9.00217071e+00,\n",
       "        2.34692543e+00,  1.10883183e+01,  4.15962063e+00, -1.72620959e+00,\n",
       "        7.52797908e+00,  8.55052607e+00, -1.33801471e+00,  3.07871412e+00,\n",
       "        6.93015515e+00,  1.03363968e+01,  2.96064344e+00,  5.45670257e+00,\n",
       "        6.42348821e+00,  5.99978281e+00,  5.91324358e+00,  4.65659902e+00,\n",
       "        4.03088540e+00,  2.84524198e+00,  8.49725157e+00,  6.87604562e+00,\n",
       "        7.09235027e+00,  7.30552876e+00,  3.59977308e+00,  5.47643853e+00,\n",
       "        6.48948518e+00,  5.62793326e+00,  7.08872359e+00,  8.52229363e+00,\n",
       "        9.12669338e+00,  8.85276157e+00,  6.88618046e+00,  8.22197747e+00,\n",
       "        8.52024739e+00,  5.49319970e+00,  5.90314573e+00,  4.44917613e+00,\n",
       "        2.40460074e+00,  5.22046485e+00,  9.85848563e-01,  7.44048477e+00,\n",
       "        4.47125884e+00,  5.11967844e+00,  5.26995701e+00,  1.14760369e+00,\n",
       "        6.31083099e+00,  2.00525235e+00,  5.36971241e+00,  5.38278323e+00,\n",
       "        2.18328668e+00,  6.04033994e+00,  3.53000029e+00,  4.81084383e+00,\n",
       "        4.65380639e+00,  3.50238246e-01,  6.82421965e+00,  4.67804327e+00,\n",
       "        4.23819012e+00,  1.33387894e+00,  6.65663044e+00,  6.37327330e+00,\n",
       "        6.85180819e+00,  7.72500708e+00,  1.69285209e+00,  3.50667443e+00,\n",
       "        9.47891319e+00,  8.09965111e+00,  4.42388144e+00, -1.46768687e+00,\n",
       "        7.48863638e+00,  6.85682090e+00,  3.52213109e+00,  6.55060149e+00,\n",
       "        4.84416579e+00,  8.51286729e+00,  3.69877802e+00,  1.87601073e+00,\n",
       "        1.91472037e+00,  4.32510874e+00,  4.20213016e+00,  7.74335911e+00,\n",
       "        6.30607798e+00,  5.05842714e+00,  2.67273155e+00,  4.98609250e+00,\n",
       "        1.71325455e+00,  4.75704048e+00,  9.94538799e+00,  1.02109797e+01,\n",
       "        7.43125266e+00,  4.29842024e+00,  5.41857922e+00,  5.20797702e+00,\n",
       "        7.18093207e+00,  7.10747497e+00,  4.33647668e+00,  9.73839422e+00,\n",
       "        2.86041899e+00,  6.44312305e+00,  3.62330448e+00,  2.65534602e+00,\n",
       "        6.51204212e+00,  1.08354100e+00,  3.73508034e+00,  5.39290324e+00,\n",
       "        4.90702079e+00,  1.07290496e+00,  5.25530709e+00, -4.76112885e-01,\n",
       "        9.00157732e+00,  6.89849239e+00,  3.64625239e+00,  1.03106103e+01,\n",
       "        8.53491977e+00,  5.27659240e+00,  5.53492112e+00, -1.18274349e-01,\n",
       "        2.18445720e+00, -1.27941325e-01,  6.40768304e+00,  9.65101413e-01,\n",
       "        6.40909009e+00,  6.06361087e+00,  2.18272986e+00,  1.52092670e+00,\n",
       "        7.96980459e+00,  4.76347963e+00,  5.98830637e-01,  8.94376096e+00,\n",
       "        8.23603851e+00,  7.06215606e+00,  4.28277149e+00,  4.05856542e+00,\n",
       "        1.20237741e+01,  5.11431877e+00,  5.62339118e+00,  6.34976491e+00,\n",
       "        9.98445191e-01,  5.80746492e+00,  4.82613035e+00,  7.06490534e+00,\n",
       "        3.60865994e+00,  3.20458934e+00,  3.71311579e+00,  4.48639956e+00,\n",
       "        8.37863344e+00,  7.98605213e+00,  3.77413210e+00,  7.77030267e+00,\n",
       "        4.80212148e+00,  1.02112340e+00,  5.91956084e+00,  4.70443088e+00,\n",
       "        1.85262163e+00,  5.28587026e+00,  7.50084144e+00,  2.99367157e+00,\n",
       "        4.13953373e+00,  9.16529965e+00,  1.64130252e+00,  5.17437215e+00,\n",
       "        7.98116962e+00,  4.27410309e+00,  9.72066379e+00,  5.39475688e+00,\n",
       "        4.61865933e+00,  1.12896445e+01,  4.64067258e+00,  4.73786415e+00,\n",
       "        6.18627483e+00,  2.95354784e+00,  6.98939379e+00,  3.45011564e+00,\n",
       "        4.93801189e+00,  4.50415984e+00,  2.45306772e+00,  1.43340483e+00,\n",
       "        1.45744629e+00,  2.84907101e+00,  4.79536420e+00,  3.07254787e+00,\n",
       "        8.72022377e+00,  1.69090180e+00,  1.21055447e+00,  1.94077200e+00,\n",
       "        4.15601667e+00,  3.00416150e+00,  9.38503426e+00,  5.94454706e+00,\n",
       "       -8.17184482e-01,  1.51812694e+00,  8.18389813e+00,  9.77144740e-01,\n",
       "        5.27664524e+00,  6.64518771e+00,  3.52927194e+00,  3.84589324e+00,\n",
       "        6.76944983e+00,  2.41338480e+00,  3.00008746e+00,  4.94257161e+00,\n",
       "        6.45789731e+00,  5.89612617e+00,  2.42719131e+00,  4.96088098e+00,\n",
       "        3.74668839e+00,  9.19176889e+00,  7.24574141e+00,  8.01488449e+00,\n",
       "        4.94808244e+00,  5.88689129e+00,  4.62288359e+00,  4.46912953e+00,\n",
       "        6.06685388e+00,  8.24380193e+00,  2.47510633e+00,  3.39815902e+00,\n",
       "        9.48745467e+00,  4.36867834e+00,  5.87747062e+00,  3.58922202e+00,\n",
       "        6.08247749e+00,  7.35749531e+00,  1.14280184e+01,  4.77536870e+00,\n",
       "        5.05125927e+00,  3.95482586e+00,  3.03321872e+00,  5.78947065e+00,\n",
       "        1.32534456e+00,  7.65175612e+00,  5.06442480e+00,  3.93649068e+00,\n",
       "        7.22063581e+00,  4.42764537e+00, -3.66724520e-01,  9.52441444e+00,\n",
       "        9.44273549e+00,  7.97710790e+00, -5.16961343e-01,  7.83030242e+00,\n",
       "        4.49127581e+00,  2.38718446e+00,  6.87576526e+00,  9.84663138e+00,\n",
       "        8.56712250e+00,  4.59664095e+00,  2.06380659e+00,  2.92296285e-01,\n",
       "        3.03855633e-01,  1.67728507e+01,  3.75083506e+00,  4.25299099e+00,\n",
       "        3.33263078e-01,  3.29968915e+00,  3.60444641e+00,  5.60605644e+00,\n",
       "        6.56565583e+00,  5.08546351e+00,  3.28330088e-01,  2.29344195e+00,\n",
       "        5.01454076e+00,  3.06022807e+00,  4.83603003e+00, -4.17404939e-01,\n",
       "        4.02089991e+00,  4.34662892e+00,  1.21894794e+01,  6.57399748e+00,\n",
       "        6.42349287e+00,  3.29995634e+00,  6.41777422e+00,  4.34615889e+00,\n",
       "        2.06977027e+00,  3.51777163e+00,  9.15736729e+00,  2.86390379e+00,\n",
       "       -7.10435252e-01,  2.42556283e+00,  5.75425421e-02,  4.75983906e+00,\n",
       "        4.52922513e+00,  2.70973095e+00,  3.78268627e+00,  6.53004166e+00,\n",
       "        1.14551373e+01,  6.65138751e+00,  1.33923014e+00,  1.98268815e+00,\n",
       "        5.99925003e+00,  9.67404776e+00,  6.04513019e+00,  8.90633607e+00,\n",
       "        2.98211958e+00,  6.54984760e+00,  3.35997205e+00,  7.53806913e+00,\n",
       "        7.55513379e-01,  6.99296856e+00,  1.04145145e+00,  2.78372013e-01,\n",
       "       -3.35943097e+00,  8.26367641e+00,  2.79840712e+00,  1.44411133e+01,\n",
       "        1.20173177e+01,  6.17993209e+00,  8.16898953e-01, -1.26478081e+00,\n",
       "        5.32688623e+00,  9.42946205e+00,  6.21223647e+00,  5.17665540e+00,\n",
       "        7.53986765e+00,  1.12245934e+01,  1.02801748e+00,  1.03713858e+01,\n",
       "        4.34768114e+00,  4.64712631e+00, -4.27921498e-01,  4.51184695e+00,\n",
       "        4.67033779e+00, -5.28111869e-02, -2.37874052e+00,  5.41301525e+00,\n",
       "        9.82333339e+00,  7.10344938e+00,  2.15704842e+00,  3.00885608e+00,\n",
       "        2.14915194e+00,  7.46899323e+00,  3.52900467e+00,  6.21457121e+00,\n",
       "        9.04244347e+00,  4.38489838e+00,  7.79486519e+00,  6.52012229e+00,\n",
       "       -3.27397698e-01,  3.21131025e+00,  4.86580495e+00,  1.54645888e+00,\n",
       "        1.31281330e+01,  5.16781795e+00,  7.46089687e+00,  4.44745339e+00,\n",
       "        5.14126274e+00,  8.63331326e+00,  5.94712479e+00,  5.73375721e+00,\n",
       "        4.79008777e+00,  1.05512211e+01,  4.77821643e+00,  2.72042136e+00,\n",
       "        3.18125367e+00,  7.61753979e+00,  5.46540145e+00,  4.10926018e-01,\n",
       "        5.00086634e+00,  2.31875471e+00,  1.97734196e+00,  5.17206289e+00,\n",
       "        2.51038697e+00,  4.98643878e+00,  9.30545778e+00,  3.45047845e+00,\n",
       "        4.11646819e+00, -6.42090359e-01,  6.97075857e+00,  6.49116039e+00,\n",
       "        1.03121273e+00,  3.72082054e+00, -2.12745890e+00,  5.68227737e+00,\n",
       "        7.86141855e+00,  3.32375338e+00,  7.07860037e+00,  5.12980744e+00,\n",
       "        5.32497651e+00,  9.25502375e+00,  1.06955513e+01,  5.73382299e+00,\n",
       "        6.69018712e+00,  1.72879936e+00,  8.56336533e+00,  3.18102010e+00,\n",
       "        2.41456017e+00,  1.15784074e+01,  6.21886664e+00,  9.17081292e-02,\n",
       "        5.74453013e+00,  9.79411691e+00,  4.32532953e+00,  8.74920856e+00,\n",
       "        3.64400342e+00,  3.07473170e+00,  6.12143923e+00,  4.00657939e+00,\n",
       "        4.32596304e+00,  3.65277612e+00,  4.70015643e+00,  7.25830268e+00,\n",
       "        3.36765223e+00,  2.73626089e+00,  1.49667591e+00,  5.79557365e+00,\n",
       "        7.73012499e+00,  4.21372375e+00,  3.31942482e+00,  1.35875086e-02,\n",
       "        1.96601200e+00,  3.60825366e+00,  6.49718702e+00,  6.91797923e+00,\n",
       "        6.03651903e+00,  2.82087444e+00,  6.11420612e+00,  2.88486453e+00,\n",
       "        5.56399203e+00,  1.05022800e+01,  2.49470125e+00,  2.27529547e+00,\n",
       "        1.69654075e+00,  5.66611673e+00,  5.03835454e+00,  6.16051996e+00,\n",
       "        1.85443349e+00,  3.59177960e+00,  5.39977331e+00,  1.61829753e+00,\n",
       "        4.31149664e+00,  4.67390086e+00,  2.20468488e+00,  4.54160768e+00,\n",
       "        3.45741733e+00, -1.38374135e+00,  6.20134167e+00,  8.48699567e+00,\n",
       "        3.31159196e+00,  7.13457202e+00,  3.86487386e+00,  3.60809290e+00,\n",
       "        4.23162731e+00,  5.50586527e+00,  5.78031773e+00,  8.44310509e+00,\n",
       "        6.54573551e+00,  7.72317237e-01,  4.53588193e+00,  8.26228895e+00,\n",
       "        8.86032753e+00,  5.94804365e+00,  4.47386406e+00,  4.50757519e+00,\n",
       "        9.65073169e-01,  7.12384632e+00,  8.31607045e+00,  1.29047967e+00,\n",
       "        2.89022125e+00,  6.34651115e+00,  5.35586146e+00,  3.98774690e+00,\n",
       "        5.03549380e+00, -1.10856316e+00,  7.40865996e-01,  4.17150788e+00,\n",
       "        6.34064498e+00,  8.88624298e+00,  2.65818753e+00,  2.29865004e+00,\n",
       "        3.91410322e+00,  4.43431605e+00,  6.90606535e+00,  9.63481648e-01,\n",
       "        1.00300996e+00,  9.57399409e+00,  8.78912157e-01,  3.20602144e+00,\n",
       "        1.16718706e+01, -6.21663039e-01,  7.48749937e+00,  1.14704145e+01,\n",
       "        4.59133236e+00,  1.25930259e+01,  5.62504167e+00,  1.77319997e+00,\n",
       "        1.08017565e+00,  6.76298048e+00,  5.61767569e+00,  1.20569865e+00,\n",
       "        3.40834633e+00,  4.83411999e+00,  3.99341174e+00,  5.48308674e+00,\n",
       "        8.81128264e+00,  7.66928763e+00,  4.93737559e+00,  1.12328367e+00,\n",
       "        1.05528302e+01,  1.84959678e+00,  8.55856098e+00,  6.80476329e+00,\n",
       "        1.00724316e+01,  4.45012171e+00,  3.03509872e+00,  7.63701571e+00,\n",
       "        1.04401372e+01,  8.37049956e+00,  7.88642625e+00,  6.63786655e+00,\n",
       "        9.65286915e-01,  4.88774515e+00,  7.84617645e+00,  8.10086173e+00,\n",
       "        4.54894694e+00,  1.03647188e+01,  8.43717180e-01,  6.13022300e+00,\n",
       "        8.81734034e+00,  3.93539483e+00,  2.19911233e+00,  2.49214371e+00,\n",
       "        5.27067693e+00,  5.05140740e+00,  4.14249664e+00,  1.68152297e+00,\n",
       "        2.31485292e+00,  5.25505466e+00,  2.39020158e+00,  3.54153224e+00,\n",
       "        5.80055116e+00,  1.64968472e-01, -9.98175089e-02,  8.42164769e+00,\n",
       "        6.80505462e+00,  5.45606458e+00,  1.04608537e+01,  5.10768199e+00,\n",
       "        5.08683839e+00,  8.79315987e+00,  8.20059098e+00,  8.27212962e+00,\n",
       "        7.49179496e+00,  5.97347391e+00,  2.27551011e+00,  7.22908312e+00,\n",
       "        4.33361505e+00,  4.50017293e+00,  8.20695506e+00,  2.94325474e+00,\n",
       "        9.01461895e+00,  8.38315546e+00,  5.75078136e+00,  5.74576061e+00,\n",
       "        6.67494490e+00,  5.09826178e+00,  8.82923868e+00,  5.87159450e+00,\n",
       "        8.45328584e+00,  8.60390671e+00,  7.47989973e+00,  9.92106135e+00,\n",
       "        5.44508239e+00,  4.90318741e+00,  9.16125886e+00,  1.73787907e-01,\n",
       "        2.12268469e+00,  5.21549269e+00,  5.65784033e+00,  6.39867309e+00,\n",
       "        1.40237060e+00,  1.13396005e+01,  5.55648461e+00,  4.35544236e+00,\n",
       "        8.01523685e+00,  6.89581025e+00,  5.51728170e+00,  5.18711722e+00,\n",
       "        4.19165911e+00,  5.12942133e+00,  5.11521773e+00,  7.16187167e+00,\n",
       "        7.09023537e+00,  5.52779749e+00,  5.45499747e+00,  3.12839109e+00,\n",
       "        5.50871139e+00,  1.00795948e+01,  7.97045753e+00,  4.01510661e+00,\n",
       "        1.71091734e+00,  3.04976335e+00,  4.19608510e+00,  4.83413992e+00,\n",
       "        7.73994241e+00,  8.00977329e+00,  2.57109741e+00,  5.56746960e+00,\n",
       "        2.89752741e+00,  3.46441559e+00,  5.25298729e+00,  7.51876670e+00,\n",
       "        1.03321708e+01,  2.40730649e+00,  6.24238462e+00, -7.93607192e-01,\n",
       "        2.07250756e+00,  3.93065075e+00,  5.12941156e+00,  9.35879970e+00,\n",
       "        3.27142089e+00,  4.82975951e+00,  5.43000814e+00,  4.53665462e+00,\n",
       "        1.39582158e+00,  3.54219370e+00,  2.54978193e+00,  1.16453699e+01,\n",
       "        2.82228534e+00,  3.96674229e+00,  1.48062254e+00,  6.73392189e+00,\n",
       "        3.28472223e-01,  1.15851439e-01,  3.80231932e+00,  7.78033088e+00,\n",
       "        8.14437378e+00,  4.13858667e+00,  6.62703946e+00,  7.05030573e+00,\n",
       "        4.01187044e+00,  5.54039883e+00,  2.00868888e+00,  3.02270606e+00,\n",
       "        6.44275655e+00,  7.53203094e+00,  8.42706319e+00,  2.53954276e+00,\n",
       "        1.77611270e+00,  4.74048969e+00,  8.29062503e+00,  6.42330655e+00,\n",
       "        3.44468173e-01,  5.06737787e+00,  1.26155412e+01,  3.27767441e+00,\n",
       "        6.86120361e+00,  6.61605926e+00,  2.88248603e+00,  4.06147289e+00,\n",
       "        2.79299328e+00,  2.73788493e+00, -8.78813851e-01,  8.65174398e+00,\n",
       "        1.25410634e+01,  1.19656376e+01,  5.56540203e+00,  1.39148948e+00,\n",
       "       -1.45569234e+00,  3.11962322e+00,  9.78288206e+00,  5.78175656e+00,\n",
       "        7.47303009e+00,  8.43365359e+00,  8.01734117e-01,  5.16303412e+00,\n",
       "        5.85168968e+00,  1.23140521e+00,  8.54315548e+00,  7.65398133e+00,\n",
       "        3.12144457e+00,  1.06204210e-01,  3.23723306e+00,  2.40889736e+00,\n",
       "        4.90228676e+00,  1.91076305e+00,  6.61542101e+00,  3.68013352e+00,\n",
       "        7.26084498e+00,  4.21708394e+00,  7.44354434e-01,  4.05207670e+00,\n",
       "        3.60029364e+00,  1.66996172e+00,  5.02950398e+00,  1.70390143e-01,\n",
       "        3.05274435e-01,  3.60515029e+00,  5.61616092e+00,  1.24326389e+01,\n",
       "        4.61507497e+00,  6.79430702e+00,  6.41698371e-01,  5.60964308e+00,\n",
       "        5.58764146e+00,  1.48631630e+00,  3.68159236e+00,  1.03885987e+01,\n",
       "        2.20637644e+00,  2.56732331e+00,  1.13540881e+01,  4.30442111e+00,\n",
       "        1.08048947e+01,  6.21345033e+00,  3.05436706e+00,  6.94159630e+00,\n",
       "        3.72821669e+00,  8.45674075e+00,  4.22042926e+00,  8.57862181e+00,\n",
       "        7.36129459e+00,  3.94230502e+00,  5.23620905e+00,  5.64928339e+00,\n",
       "        4.66690875e+00,  5.25407282e+00,  6.91158204e+00,  8.10968367e+00,\n",
       "        3.90806312e+00, -4.61268251e-01,  5.86908278e+00,  5.20124033e+00,\n",
       "        2.81819997e+00,  4.85753982e+00,  9.06252624e+00,  1.37258853e+00,\n",
       "        3.77067579e+00,  5.89357849e+00,  8.52047407e+00, -2.59466399e-01,\n",
       "       -3.50632670e-01,  9.95116287e-02,  3.07191334e+00,  6.58719757e+00,\n",
       "        2.27484536e+00,  6.57450565e+00,  6.74180521e+00,  7.74593659e+00,\n",
       "        6.84441473e+00,  8.38366953e+00,  9.99397549e+00,  4.09039010e-02,\n",
       "        7.64198067e+00,  3.61952040e+00,  4.05044915e+00,  6.82450855e+00])"
      ]
     },
     "execution_count": 19,
     "metadata": {},
     "output_type": "execute_result"
    }
   ],
   "source": [
    "normal_data = np.random.normal(loc=5, scale=3.0, size=1000)\n",
    "normal_data"
   ]
  },
  {
   "cell_type": "markdown",
   "id": "be184d76",
   "metadata": {},
   "source": [
    "### Visualizing normal data using arrays\n",
    "\n",
    "Using **`matplotlib`**, another popular, widely-used Python data science library for visualization, we can visualize the normal data generated with **`np.random.normal()`**."
   ]
  },
  {
   "cell_type": "code",
   "execution_count": 20,
   "id": "fc97eb22",
   "metadata": {},
   "outputs": [
    {
     "data": {
      "image/png": "[encoded data removed]",
      "text/plain": [
       "<Figure size 432x288 with 1 Axes>"
      ]
     },
     "metadata": {
      "needs_background": "light"
     },
     "output_type": "display_data"
    }
   ],
   "source": [
    "import matplotlib.pyplot as plt\n",
    "\n",
    "plt.hist(x=normal_data, bins='auto', alpha=0.7, rwidth=0.95)\n",
    "\n",
    "plt.title(\"Normal Distribution\")\n",
    "plt.ylabel('Frequency')\n",
    "plt.xlabel('normal_data')\n",
    "\n",
    "plt.show()"
   ]
  },
  {
   "cell_type": "markdown",
   "id": "83dd5369",
   "metadata": {},
   "source": [
    "### Array shape"
   ]
  },
  {
   "cell_type": "markdown",
   "id": "a613d264",
   "metadata": {},
   "source": [
    "All arrays have a shape or a dimension which refers to their number of rows and columns\n",
    "\n",
    "These values are accessible via the **`.shape`** method."
   ]
  },
  {
   "cell_type": "markdown",
   "id": "586be300",
   "metadata": {},
   "source": [
    "For example, let's get the shape of a vector"
   ]
  },
  {
   "cell_type": "code",
   "execution_count": 23,
   "id": "39fedcf0",
   "metadata": {},
   "outputs": [
    {
     "name": "stdout",
     "output_type": "stream",
     "text": [
      "Vector shape: <class 'tuple'>\n"
     ]
    }
   ],
   "source": [
    "vector = np.arange(5)\n",
    "print(\"Vector shape:\", type(vector.shape))"
   ]
  },
  {
   "cell_type": "code",
   "execution_count": 27,
   "id": "cda44ef6",
   "metadata": {},
   "outputs": [],
   "source": [
    "t1 = (1,2)\n",
    "t2 = (3,)"
   ]
  },
  {
   "cell_type": "code",
   "execution_count": 28,
   "id": "8535db7c",
   "metadata": {},
   "outputs": [
    {
     "data": {
      "text/plain": [
       "(tuple, tuple)"
      ]
     },
     "execution_count": 28,
     "metadata": {},
     "output_type": "execute_result"
    }
   ],
   "source": [
    "type(t1),type(t2)"
   ]
  },
  {
   "cell_type": "code",
   "execution_count": 22,
   "id": "0de79846",
   "metadata": {},
   "outputs": [
    {
     "data": {
      "text/plain": [
       "array([0, 1, 2, 3, 4])"
      ]
     },
     "execution_count": 22,
     "metadata": {},
     "output_type": "execute_result"
    }
   ],
   "source": [
    "vector"
   ]
  },
  {
   "cell_type": "markdown",
   "id": "d46e1e30",
   "metadata": {},
   "source": [
    "The shape of a matrix"
   ]
  },
  {
   "cell_type": "code",
   "execution_count": 29,
   "id": "7cdc7a0a",
   "metadata": {},
   "outputs": [
    {
     "name": "stdout",
     "output_type": "stream",
     "text": [
      "Matrix shape: (3, 2)\n"
     ]
    }
   ],
   "source": [
    "matrix = np.ones([3, 2])\n",
    "print(\"Matrix shape:\", matrix.shape)"
   ]
  },
  {
   "cell_type": "markdown",
   "id": "118fdd1a",
   "metadata": {},
   "source": [
    "The shape of a tensor"
   ]
  },
  {
   "cell_type": "code",
   "execution_count": 48,
   "id": "a8d4a08b",
   "metadata": {},
   "outputs": [
    {
     "name": "stdout",
     "output_type": "stream",
     "text": [
      "Tensor shape: (3, 2, 3)\n"
     ]
    }
   ],
   "source": [
    "tensor = np.zeros([3, 2, 3])\n",
    "print(\"Tensor shape:\", tensor.shape)"
   ]
  },
  {
   "cell_type": "code",
   "execution_count": 49,
   "id": "b12e7d37",
   "metadata": {},
   "outputs": [
    {
     "data": {
      "text/plain": [
       "array([[[0., 0., 0.],\n",
       "        [0., 0., 0.]],\n",
       "\n",
       "       [[0., 0., 0.],\n",
       "        [0., 0., 0.]],\n",
       "\n",
       "       [[0., 0., 0.],\n",
       "        [0., 0., 0.]]])"
      ]
     },
     "execution_count": 49,
     "metadata": {},
     "output_type": "execute_result"
    }
   ],
   "source": [
    "tensor"
   ]
  },
  {
   "cell_type": "markdown",
   "id": "cd549405",
   "metadata": {},
   "source": [
    "### NumPy array operations\n",
    "\n",
    "Many operations can be performed on NumPy arrays which makes them very helpful for manipulating data:\n",
    "\n",
    "- Reshaping arrays\n",
    "\n",
    "- Indexing and Slicing arrays\n",
    "\n",
    "- Combining arrays\n",
    "\n",
    "- Splitting arrays\n",
    "\n",
    "- Numerical operations (min, max, mean, etc)"
   ]
  },
  {
   "cell_type": "markdown",
   "id": "4d522e19",
   "metadata": {},
   "source": [
    "### Reshaping Arrays"
   ]
  },
  {
   "cell_type": "markdown",
   "id": "ccea4070",
   "metadata": {},
   "source": [
    "Using **`.reshape()`**, we can reshape an array into any compatible dimensions.\n",
    "\n",
    "For example, we create an array where each element is incremented from 1 to 9."
   ]
  },
  {
   "cell_type": "code",
   "execution_count": 50,
   "id": "8847779c",
   "metadata": {},
   "outputs": [
    {
     "name": "stdout",
     "output_type": "stream",
     "text": [
      "[1 2 3 4 5 6 7 8 9]\n"
     ]
    }
   ],
   "source": [
    "arr = np.arange(1, 10)\n",
    "print(arr)"
   ]
  },
  {
   "cell_type": "markdown",
   "id": "a4649426",
   "metadata": {},
   "source": [
    "Then we reshape it to a 3x3 matrix."
   ]
  },
  {
   "cell_type": "code",
   "execution_count": 55,
   "id": "430b5c1a",
   "metadata": {},
   "outputs": [
    {
     "name": "stdout",
     "output_type": "stream",
     "text": [
      "[[1 2 3]\n",
      " [4 5 6]\n",
      " [7 8 9]]\n"
     ]
    }
   ],
   "source": [
    "arr = arr.reshape(3, 3)\n",
    "print(arr)"
   ]
  },
  {
   "cell_type": "markdown",
   "id": "b02079eb",
   "metadata": {},
   "source": [
    "After, we reshape back to the original size."
   ]
  },
  {
   "cell_type": "code",
   "execution_count": 56,
   "id": "551c6c7e",
   "metadata": {},
   "outputs": [
    {
     "name": "stdout",
     "output_type": "stream",
     "text": [
      "[1 2 3 4 5 6 7 8 9]\n"
     ]
    }
   ],
   "source": [
    "arr = arr.reshape(9)\n",
    "print(arr)"
   ]
  },
  {
   "cell_type": "markdown",
   "id": "29546920",
   "metadata": {},
   "source": [
    "### Indexing and Slicing Arrays"
   ]
  },
  {
   "cell_type": "markdown",
   "id": "60332a35",
   "metadata": {},
   "source": [
    "At some point, it will become necessary to index (or select) subsets of a NumPy array.\n",
    "\n",
    "For instance, you might want to plot one column of data or perform a manipulation of that column."
   ]
  },
  {
   "cell_type": "markdown",
   "id": "f46ec0ca",
   "metadata": {},
   "source": [
    "- Commas separate axes of an array.\n",
    "\n",
    "- Colons mean \"through\". For example, x[0:4] means the first 5 rows (rows 0 through 4) of x.\n",
    "\n",
    "- Negative numbers mean \"from the end of the array.\" For example, x[-1] means the last row of x.\n",
    "\n",
    "- Blanks before or after colons means \"the rest of\". For example, x[3:] means the rest of the rows in x after row 3. Similarly, x[:3] means all the rows up to row 3. x[:] means all rows of x."
   ]
  },
  {
   "cell_type": "code",
   "execution_count": 58,
   "id": "6f904277",
   "metadata": {},
   "outputs": [
    {
     "data": {
      "text/plain": [
       "array([[ 1,  2,  3,  4],\n",
       "       [ 5,  6,  7,  8],\n",
       "       [ 9, 10, 11, 12],\n",
       "       [13, 14, 15, 16]])"
      ]
     },
     "execution_count": 58,
     "metadata": {},
     "output_type": "execute_result"
    }
   ],
   "source": [
    "arr = np.arange(1, 17) # Ranging from 1 up to 17, but not including 17\n",
    "arr = arr.reshape(4, 4)\n",
    "\n",
    "arr"
   ]
  },
  {
   "cell_type": "markdown",
   "id": "255fe9ef",
   "metadata": {},
   "source": [
    "We would index or slice the data in the following way:"
   ]
  },
  {
   "attachments": {
    "example1.jpg": {
     "image/jpeg": "[encoded data removed]"
    }
   },
   "cell_type": "markdown",
   "id": "ae2e8705",
   "metadata": {},
   "source": [
    "![example1.jpg](attachment:example1.jpg)"
   ]
  },
  {
   "attachments": {
    "example2.jpg": {
     "image/jpeg": "[encoded data removed]"
    }
   },
   "cell_type": "markdown",
   "id": "9883e6b3",
   "metadata": {},
   "source": [
    "![example2.jpg](attachment:example2.jpg)"
   ]
  },
  {
   "attachments": {
    "example3.jpg": {
     "image/jpeg": "[encoded data removed]"
    }
   },
   "cell_type": "markdown",
   "id": "9ac50944",
   "metadata": {},
   "source": [
    "![example3.jpg](attachment:example3.jpg)"
   ]
  },
  {
   "attachments": {
    "example4.jpg": {
     "image/jpeg": "[encoded data removed]"
    }
   },
   "cell_type": "markdown",
   "id": "e07dd91b",
   "metadata": {},
   "source": [
    "![example4.jpg](attachment:example4.jpg)"
   ]
  },
  {
   "cell_type": "markdown",
   "id": "94d1bf40",
   "metadata": {},
   "source": [
    "### Combining or Concatenating Arrays"
   ]
  },
  {
   "cell_type": "markdown",
   "id": "10d0caee",
   "metadata": {},
   "source": [
    "NumPy also provides useful functions for concatenating (i.e., joining) arrays.\n",
    "\n",
    "Let's say we wanted to restrict our attention to the first and the last rows of our array, **`arr`**.\n",
    "\n",
    "First, we'll define new sub-arrays as follows:"
   ]
  },
  {
   "cell_type": "code",
   "execution_count": 59,
   "id": "f2b5c0ed",
   "metadata": {},
   "outputs": [
    {
     "data": {
      "text/plain": [
       "array([1, 2, 3, 4])"
      ]
     },
     "execution_count": 59,
     "metadata": {},
     "output_type": "execute_result"
    }
   ],
   "source": [
    "array_start = arr[0, :]\n",
    "\n",
    "array_start"
   ]
  },
  {
   "cell_type": "code",
   "execution_count": 60,
   "id": "3f352104",
   "metadata": {},
   "outputs": [
    {
     "data": {
      "text/plain": [
       "array([13, 14, 15, 16])"
      ]
     },
     "execution_count": 60,
     "metadata": {},
     "output_type": "execute_result"
    }
   ],
   "source": [
    "array_end = arr[-1, :]\n",
    "\n",
    "array_end"
   ]
  },
  {
   "cell_type": "markdown",
   "id": "b2b1fa77",
   "metadata": {},
   "source": [
    "### `np.vstack()`\n",
    "\n",
    "To concatenate these arrays we can use **`np.vstack`**, where the **_v_** denotes vertical, or row-wise stacking of the sub-arrays:"
   ]
  },
  {
   "cell_type": "code",
   "execution_count": 72,
   "id": "18ee036d",
   "metadata": {},
   "outputs": [
    {
     "data": {
      "text/plain": [
       "array([[ 1,  2,  3,  4],\n",
       "       [13, 14, 15, 16]])"
      ]
     },
     "execution_count": 72,
     "metadata": {},
     "output_type": "execute_result"
    }
   ],
   "source": [
    "np.vstack((array_start, array_end))"
   ]
  },
  {
   "cell_type": "markdown",
   "id": "fbb26260",
   "metadata": {},
   "source": [
    "Above we stacked the first row and last row on top of each other."
   ]
  },
  {
   "cell_type": "markdown",
   "id": "01706436",
   "metadata": {},
   "source": [
    "### `np.hstack()`"
   ]
  },
  {
   "cell_type": "markdown",
   "id": "622af786",
   "metadata": {},
   "source": [
    "The horizontal counterpart of **`np.vstack()`** is **`np.hstack()`**, which combines sub-arrays column-wise."
   ]
  },
  {
   "cell_type": "code",
   "execution_count": 74,
   "id": "7315c6b3",
   "metadata": {},
   "outputs": [
    {
     "data": {
      "text/plain": [
       "array([ 1,  2,  3,  4, 13, 14, 15, 16])"
      ]
     },
     "execution_count": 74,
     "metadata": {},
     "output_type": "execute_result"
    }
   ],
   "source": [
    "np.hstack((array_start, array_end))"
   ]
  },
  {
   "cell_type": "markdown",
   "id": "bb756ec7",
   "metadata": {},
   "source": [
    "### `np.concatenate()`"
   ]
  },
  {
   "cell_type": "markdown",
   "id": "13a3af91",
   "metadata": {},
   "source": [
    "The **`np.concatenate()`** function can also perform the same tasks as both **`np.vstack()`** and **`np.hstack()`**.\n",
    "\n",
    "The syntax for this function is similar to that of both **`np.vstack()`** and **`np.hstack()`**, with the additional requirement of specifying the axis along which concatenation should be performed."
   ]
  },
  {
   "cell_type": "markdown",
   "id": "02d137fd",
   "metadata": {},
   "source": [
    "###### `axis = 0` will produce similar output as `np.vstack()`"
   ]
  },
  {
   "cell_type": "code",
   "execution_count": 75,
   "id": "7f7d134b",
   "metadata": {},
   "outputs": [
    {
     "data": {
      "text/plain": [
       "array([ 1,  2,  3,  4, 13, 14, 15, 16])"
      ]
     },
     "execution_count": 75,
     "metadata": {},
     "output_type": "execute_result"
    }
   ],
   "source": [
    "np.concatenate((array_start, array_end), axis = 0)"
   ]
  },
  {
   "cell_type": "markdown",
   "id": "6bbaaaa7",
   "metadata": {},
   "source": [
    "###### `axis = 1` will produce similar output as `np.hstack()`"
   ]
  },
  {
   "cell_type": "code",
   "execution_count": 68,
   "id": "653a96ab",
   "metadata": {},
   "outputs": [
    {
     "ename": "AxisError",
     "evalue": "axis 1 is out of bounds for array of dimension 1",
     "output_type": "error",
     "traceback": [
      "\u001b[1;31m---------------------------------------------------------------------------\u001b[0m",
      "\u001b[1;31mAxisError\u001b[0m                                 Traceback (most recent call last)",
      "Input \u001b[1;32mIn [68]\u001b[0m, in \u001b[0;36m<cell line: 1>\u001b[1;34m()\u001b[0m\n\u001b[1;32m----> 1\u001b[0m \u001b[43mnp\u001b[49m\u001b[38;5;241;43m.\u001b[39;49m\u001b[43mconcatenate\u001b[49m\u001b[43m(\u001b[49m\u001b[43m(\u001b[49m\u001b[43marray_start\u001b[49m\u001b[43m,\u001b[49m\u001b[43m \u001b[49m\u001b[43marray_end\u001b[49m\u001b[43m)\u001b[49m\u001b[43m,\u001b[49m\u001b[43m \u001b[49m\u001b[43maxis\u001b[49m\u001b[43m \u001b[49m\u001b[38;5;241;43m=\u001b[39;49m\u001b[43m \u001b[49m\u001b[38;5;241;43m1\u001b[39;49m\u001b[43m)\u001b[49m\n",
      "File \u001b[1;32m<__array_function__ internals>:5\u001b[0m, in \u001b[0;36mconcatenate\u001b[1;34m(*args, **kwargs)\u001b[0m\n",
      "\u001b[1;31mAxisError\u001b[0m: axis 1 is out of bounds for array of dimension 1"
     ]
    }
   ],
   "source": [
    "np.concatenate((array_start, array_end), axis = 1)"
   ]
  },
  {
   "cell_type": "markdown",
   "id": "1b027966",
   "metadata": {},
   "source": [
    "### Splitting Arrays"
   ]
  },
  {
   "cell_type": "markdown",
   "id": "7c8d34d3",
   "metadata": {},
   "source": [
    "The opposite of concatenating (i.e., joining) arrays is splitting them. To split an array, NumPy provides the following commands:\n",
    "\n",
    "- **`hsplit`**: splits along the horizontal axis\n",
    "\n",
    "- **`vsplit`**: splits along the vertical axis\n",
    "\n",
    "- **`dsplit`**: Splits an array along the 3rd axis (depth)\n",
    "\n",
    "- **`array_split`**: lets you specify the axis to use in splitting"
   ]
  },
  {
   "cell_type": "markdown",
   "id": "480408e9",
   "metadata": {},
   "source": [
    "### Numerical Operations on Arrays (Broadcasting)"
   ]
  },
  {
   "cell_type": "markdown",
   "id": "a510d335",
   "metadata": {},
   "source": [
    "**_Broadcasting_** is a process performed by NumPy that allows mathematical operations to be performed on all elements of an array at the same time."
   ]
  },
  {
   "attachments": {
    "broadcast.jpg": {
     "image/jpeg": "[encoded data removed]"
    }
   },
   "cell_type": "markdown",
   "id": "d7ec2fc8",
   "metadata": {},
   "source": [
    "![broadcast.jpg](attachment:broadcast.jpg)"
   ]
  },
  {
   "cell_type": "code",
   "execution_count": 76,
   "id": "12ba182e",
   "metadata": {},
   "outputs": [
    {
     "data": {
      "text/plain": [
       "array([0, 1, 2])"
      ]
     },
     "execution_count": 76,
     "metadata": {},
     "output_type": "execute_result"
    }
   ],
   "source": [
    "my_arr = np.arange(3)\n",
    "\n",
    "my_arr"
   ]
  },
  {
   "cell_type": "code",
   "execution_count": 77,
   "id": "daafb620",
   "metadata": {},
   "outputs": [
    {
     "data": {
      "text/plain": [
       "array([5, 6, 7])"
      ]
     },
     "execution_count": 77,
     "metadata": {},
     "output_type": "execute_result"
    }
   ],
   "source": [
    "my_arr + 5"
   ]
  },
  {
   "cell_type": "code",
   "execution_count": 78,
   "id": "fd94bb89",
   "metadata": {},
   "outputs": [
    {
     "data": {
      "text/plain": [
       "array([-1,  0,  1])"
      ]
     },
     "execution_count": 78,
     "metadata": {},
     "output_type": "execute_result"
    }
   ],
   "source": [
    "my_arr - 1"
   ]
  },
  {
   "cell_type": "code",
   "execution_count": 79,
   "id": "c54076d2",
   "metadata": {},
   "outputs": [
    {
     "data": {
      "text/plain": [
       "array([0, 2, 4])"
      ]
     },
     "execution_count": 79,
     "metadata": {},
     "output_type": "execute_result"
    }
   ],
   "source": [
    "my_arr * 2"
   ]
  },
  {
   "cell_type": "code",
   "execution_count": 80,
   "id": "895ebee1",
   "metadata": {},
   "outputs": [
    {
     "data": {
      "text/plain": [
       "array([0. , 0.5, 1. ])"
      ]
     },
     "execution_count": 80,
     "metadata": {},
     "output_type": "execute_result"
    }
   ],
   "source": [
    "my_arr / 2"
   ]
  },
  {
   "cell_type": "code",
   "execution_count": null,
   "id": "b2cf38b0",
   "metadata": {},
   "outputs": [],
   "source": []
  }
 ],
 "metadata": {
  "kernelspec": {
   "display_name": "Python 3 (ipykernel)",
   "language": "python",
   "name": "python3"
  },
  "language_info": {
   "codemirror_mode": {
    "name": "ipython",
    "version": 3
   },
   "file_extension": ".py",
   "mimetype": "text/x-python",
   "name": "python",
   "nbconvert_exporter": "python",
   "pygments_lexer": "ipython3",
   "version": "3.9.12"
  }
 },
 "nbformat": 4,
 "nbformat_minor": 5
}
